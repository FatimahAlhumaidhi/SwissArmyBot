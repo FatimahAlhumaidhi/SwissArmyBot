{
 "cells": [
  {
   "cell_type": "code",
   "execution_count": 1,
   "metadata": {},
   "outputs": [],
   "source": [
    "from telegram.update import Update\n",
    "from telegram.ext import Updater, CallbackContext, CommandHandler, MessageHandler, Filters\n",
    "import os, requests, json, re\n",
    "\n",
    "from APIs import getContact, lookUp\n",
    "from models import spellCheck, spotify"
   ]
  },
  {
   "cell_type": "code",
   "execution_count": 2,
   "metadata": {},
   "outputs": [],
   "source": [
    "def process(dictlist, update: Update, context: CallbackContext):\n",
    "    if type(dictlist) != dict:\n",
    "        update.message.reply_text(dictlist)\n",
    "        return\n",
    "    acceptableDictionaries = ['المعجم: الرائد', 'المعجم: المعجم الوسيط',\n",
    "                              'المعجم: لسان العرب', 'المعجم: عربي عامة',\n",
    "                              'المعجم: القاموس المحيط', 'المعجم: اللغة العربية المعاصر']\n",
    "    for definition in dictlist:\n",
    "        if definition['dictionary'] in acceptableDictionaries:\n",
    "            response = definition['word'] + ':\\n'\n",
    "            response = response + definition['meaning'] + '\\n'\n",
    "            response = response + definition['dictionary'] + '\\n'\n",
    "            update.message.reply_text(response)"
   ]
  },
  {
   "cell_type": "code",
   "execution_count": 3,
   "metadata": {},
   "outputs": [],
   "source": [
    "MESSAGES = {\n",
    "\t'start' : 'أهلا!، هذا البوت فيه أوامر عشوائية سويتها بغرض التجربة، استخدم /help عشان تعرف الأوامر المقبولة',\n",
    "\t'help' : \"\"\"أوامر البوت:\n",
    "\t/gimme يرسل لك أغنية عشوائية\n",
    "\t/whatdis يرجع لك تعريف كلمة في أشهر المعاجم العربية\n",
    "\t/whodis ترسل رقم سعودي ويعطيك الأسماء المسجلة له\n",
    "\t\"\"\",\n",
    "\t'unknown' : 'استخدم /help عشان تعرف الأوامر المقبولة'\n",
    "}\n",
    "\n",
    "def start(update: Update, context: CallbackContext):\n",
    "\tupdate.message.reply_text(MESSAGES['start'])\n",
    "\n",
    "def help(update: Update, context: CallbackContext):\n",
    "\tupdate.message.reply_text(MESSAGES['help'])\n",
    "\n",
    "def unknown(update: Update, context: CallbackContext):\n",
    "\tupdate.message.reply_text(MESSAGES['unknown'])\n",
    "\n",
    "def numberBook(update: Update, context: CallbackContext):\n",
    "\tphone = update.message.text.replace('/whodis ', '') \n",
    "\tupdate.message.reply_text(getContact(phone))\n",
    "\n",
    "def spoti(update: Update, context: CallbackContext):\n",
    "\tclient = spotify()\n",
    "\tsong = client.randomSong()\n",
    "\tupdate.message.reply_text(song)\n",
    "\n",
    "def fromDictionary(update: Update, context: CallbackContext):\n",
    "\ttext = update.message.text.replace('/whatdis ', '') \n",
    "\tprint(text)\n",
    "\tdefinitions = lookUp(text) \n",
    "\tprocess(definitions, update, context)\n"
   ]
  },
  {
   "cell_type": "code",
   "execution_count": 4,
   "metadata": {},
   "outputs": [],
   "source": [
    "def setUp():\n",
    "\twith open(\"config.json\", encoding='utf-8') as f:\n",
    "\t\tconfig = json.load(f)\n",
    "\n",
    "\tupdater = Updater(config['TELEGRAM_TOKEN'], use_context=True)\n",
    "\tupdater.dispatcher.add_handler(CommandHandler('start', start))\n",
    "\tupdater.dispatcher.add_handler(CommandHandler('help', help))\n",
    "\tupdater.dispatcher.add_handler(CommandHandler('gimme', spoti))\n",
    "\tupdater.dispatcher.add_handler(CommandHandler('whodis', numberBook))\n",
    "\tupdater.dispatcher.add_handler(CommandHandler('whatdis', fromDictionary))\n",
    "\n",
    "\tupdater.dispatcher.add_handler(MessageHandler(Filters.text, unknown))\n",
    "\tupdater.dispatcher.add_handler(MessageHandler(Filters.command, unknown))\n",
    "\t\t\t\n",
    "\tupdater.dispatcher.add_handler(MessageHandler(Filters.text, unknown))\n",
    "\tupdater.dispatcher.add_handler(MessageHandler(Filters.command, unknown))\n",
    "\tupdater.start_polling()\n",
    "\n",
    "\treturn updater\n",
    "\t"
   ]
  },
  {
   "cell_type": "code",
   "execution_count": 5,
   "metadata": {},
   "outputs": [
    {
     "name": "stdout",
     "output_type": "stream",
     "text": [
      "hcbcbcb\n",
      "???!!!!,,\n"
     ]
    },
    {
     "name": "stderr",
     "output_type": "stream",
     "text": [
      "No error handlers are registered, logging exception.\n",
      "Traceback (most recent call last):\n",
      "  File \"c:\\Users\\fatim\\anaconda3\\lib\\site-packages\\telegram\\ext\\dispatcher.py\", line 557, in process_update\n",
      "    handler.handle_update(update, self, check, context)\n",
      "  File \"c:\\Users\\fatim\\anaconda3\\lib\\site-packages\\telegram\\ext\\handler.py\", line 199, in handle_update\n",
      "    return self.callback(update, context)\n",
      "  File \"C:\\Users\\fatim\\AppData\\Local\\Temp\\ipykernel_23476\\3035990777.py\", line 32, in fromDictionary\n",
      "    process(definitions, update, context)\n",
      "  File \"C:\\Users\\fatim\\AppData\\Local\\Temp\\ipykernel_23476\\693031893.py\", line 3, in process\n",
      "    update.message.reply_text(dictlist)\n",
      "  File \"c:\\Users\\fatim\\anaconda3\\lib\\site-packages\\telegram\\message.py\", line 912, in reply_text\n",
      "    return self.bot.send_message(\n",
      "  File \"c:\\Users\\fatim\\anaconda3\\lib\\site-packages\\telegram\\bot.py\", line 133, in decorator\n",
      "    result = func(*args, **kwargs)\n",
      "  File \"c:\\Users\\fatim\\anaconda3\\lib\\site-packages\\telegram\\bot.py\", line 525, in send_message\n",
      "    return self._message(  # type: ignore[return-value]\n",
      "  File \"c:\\Users\\fatim\\anaconda3\\lib\\site-packages\\telegram\\ext\\extbot.py\", line 202, in _message\n",
      "    result = super()._message(\n",
      "  File \"c:\\Users\\fatim\\anaconda3\\lib\\site-packages\\telegram\\bot.py\", line 339, in _message\n",
      "    result = self._post(endpoint, data, timeout=timeout, api_kwargs=api_kwargs)\n",
      "  File \"c:\\Users\\fatim\\anaconda3\\lib\\site-packages\\telegram\\bot.py\", line 298, in _post\n",
      "    return self.request.post(\n",
      "  File \"c:\\Users\\fatim\\anaconda3\\lib\\site-packages\\telegram\\utils\\request.py\", line 361, in post\n",
      "    result = self._request_wrapper(\n",
      "  File \"c:\\Users\\fatim\\anaconda3\\lib\\site-packages\\telegram\\utils\\request.py\", line 279, in _request_wrapper\n",
      "    raise BadRequest(message)\n",
      "telegram.error.BadRequest: Message is too long\n"
     ]
    }
   ],
   "source": [
    "updater = setUp()\n",
    "updater.idle()"
   ]
  },
  {
   "cell_type": "code",
   "execution_count": null,
   "metadata": {},
   "outputs": [],
   "source": []
  }
 ],
 "metadata": {
  "kernelspec": {
   "display_name": "base",
   "language": "python",
   "name": "python3"
  },
  "language_info": {
   "codemirror_mode": {
    "name": "ipython",
    "version": 3
   },
   "file_extension": ".py",
   "mimetype": "text/x-python",
   "name": "python",
   "nbconvert_exporter": "python",
   "pygments_lexer": "ipython3",
   "version": "3.9.12 (main, Apr  4 2022, 05:22:27) [MSC v.1916 64 bit (AMD64)]"
  },
  "orig_nbformat": 4,
  "vscode": {
   "interpreter": {
    "hash": "f9b01f5dcf6eb49e98361bda3ea635f308f2cf3e384d6b27fe94cf5889827908"
   }
  }
 },
 "nbformat": 4,
 "nbformat_minor": 2
}
